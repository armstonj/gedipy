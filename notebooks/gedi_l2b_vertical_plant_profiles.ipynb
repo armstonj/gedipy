{
 "cells": [
  {
   "cell_type": "markdown",
   "metadata": {},
   "source": [
    "# GEDI Level 2B Vertical Plant Profiles"
   ]
  },
  {
   "cell_type": "markdown",
   "metadata": {},
   "source": [
    "The GEDI Level 2B product provides vertical cover, plant area index (PAI) and plant area volume density (PAVD) profiles at a vertical resolution of 5 m. This notebook shows how to retrieve the directional gap probability (Pgap) profile from the Level 2B product using GEDIPy, compute these vertical profile metrics at the vertical resolution of the original Level 1B waveform, and then visualize them."
   ]
  },
  {
   "cell_type": "code",
   "execution_count": 1,
   "metadata": {},
   "outputs": [],
   "source": [
    "import numpy\n",
    "import pandas\n",
    "\n",
    "import matplotlib.pyplot as plt\n",
    "import ipywidgets\n",
    "\n",
    "from gedipy import h5io"
   ]
  },
  {
   "cell_type": "markdown",
   "metadata": {},
   "source": [
    "## A function to recompute vertical profiles\n",
    "We need datasets from the Level 2B file to compute the zenith angle of laser shot and also ancillary metrics including the RossG coefficent (canopy element projection function) and Omega coefficient (clumping factor)"
   ]
  },
  {
   "cell_type": "code",
   "execution_count": 94,
   "metadata": {},
   "outputs": [],
   "source": [
    "def get_vertical_profiles(pgap_theta_z, height, local_beam_elevation, rossg, omega):\n",
    "    cos_zenith = numpy.abs( numpy.sin(local_beam_elevation) )\n",
    "    cover_z = cos_zenith * (1.0 - pgap_theta_z)\n",
    "    pai_z = -(1.0 / (rossg * omega)) * numpy.log(pgap_theta_z) * cos_zenith\n",
    "    pavd_z = -numpy.gradient(pai_z, height)       \n",
    "    return cover_z, pai_z, pavd_z"
   ]
  },
  {
   "cell_type": "markdown",
   "metadata": {},
   "source": [
    "## Open the H5 file\n",
    "We select one of the power beams for this example"
   ]
  },
  {
   "cell_type": "code",
   "execution_count": 38,
   "metadata": {},
   "outputs": [
    {
     "data": {
      "text/plain": [
       "['BEAM0000',\n",
       " 'BEAM0001',\n",
       " 'BEAM0010',\n",
       " 'BEAM0011',\n",
       " 'BEAM0101',\n",
       " 'BEAM0110',\n",
       " 'BEAM1000',\n",
       " 'BEAM1011']"
      ]
     },
     "execution_count": 38,
     "metadata": {},
     "output_type": "execute_result"
    }
   ],
   "source": [
    "l2b_f = h5io.GEDIH5File('GEDI02_B_2019121233316_O02176_T04876_02_001_01.h5')\n",
    "l2b_f.open()\n",
    "beam = 'BEAM1011'\n",
    "l2b_f.beams"
   ]
  },
  {
   "cell_type": "markdown",
   "metadata": {},
   "source": [
    "## Read all the profiles for one beam\n",
    "This remaps the 1D pgap_theta_z array to a 2D M x N array, where M is the number Pgap profiles bins and N is the number of GEDI shots"
   ]
  },
  {
   "cell_type": "code",
   "execution_count": 96,
   "metadata": {},
   "outputs": [],
   "source": [
    "# start_offset is used to buffer the start of the profile with pgap_theta_z = 1\n",
    "start_offset = 5\n",
    "pgap_theta_z, height = l2b_f.read_pgap_theta_z(beam, height=True, start_offset=start_offset)"
   ]
  },
  {
   "cell_type": "markdown",
   "metadata": {},
   "source": [
    "## Read waveform and ancillary metrics"
   ]
  },
  {
   "cell_type": "code",
   "execution_count": 40,
   "metadata": {},
   "outputs": [
    {
     "data": {
      "text/html": [
       "<div>\n",
       "<style scoped>\n",
       "    .dataframe tbody tr th:only-of-type {\n",
       "        vertical-align: middle;\n",
       "    }\n",
       "\n",
       "    .dataframe tbody tr th {\n",
       "        vertical-align: top;\n",
       "    }\n",
       "\n",
       "    .dataframe thead th {\n",
       "        text-align: right;\n",
       "    }\n",
       "</style>\n",
       "<table border=\"1\" class=\"dataframe\">\n",
       "  <thead>\n",
       "    <tr style=\"text-align: right;\">\n",
       "      <th></th>\n",
       "      <th>shot_number</th>\n",
       "      <th>rh100</th>\n",
       "      <th>omega</th>\n",
       "      <th>rossg</th>\n",
       "      <th>l2b_quality_flag</th>\n",
       "      <th>pgap_theta_error</th>\n",
       "      <th>local_beam_elevation</th>\n",
       "    </tr>\n",
       "  </thead>\n",
       "  <tbody>\n",
       "    <tr>\n",
       "      <td>0</td>\n",
       "      <td>21761122500000001</td>\n",
       "      <td>509</td>\n",
       "      <td>1.0</td>\n",
       "      <td>0.5</td>\n",
       "      <td>1</td>\n",
       "      <td>0.000130</td>\n",
       "      <td>1.552016</td>\n",
       "    </tr>\n",
       "    <tr>\n",
       "      <td>1</td>\n",
       "      <td>21761122700000002</td>\n",
       "      <td>403</td>\n",
       "      <td>1.0</td>\n",
       "      <td>0.5</td>\n",
       "      <td>1</td>\n",
       "      <td>0.000204</td>\n",
       "      <td>1.552016</td>\n",
       "    </tr>\n",
       "    <tr>\n",
       "      <td>2</td>\n",
       "      <td>21761122900000003</td>\n",
       "      <td>377</td>\n",
       "      <td>1.0</td>\n",
       "      <td>0.5</td>\n",
       "      <td>1</td>\n",
       "      <td>0.000104</td>\n",
       "      <td>1.552016</td>\n",
       "    </tr>\n",
       "    <tr>\n",
       "      <td>3</td>\n",
       "      <td>21761123100000004</td>\n",
       "      <td>299</td>\n",
       "      <td>1.0</td>\n",
       "      <td>0.5</td>\n",
       "      <td>0</td>\n",
       "      <td>0.000123</td>\n",
       "      <td>1.552016</td>\n",
       "    </tr>\n",
       "    <tr>\n",
       "      <td>4</td>\n",
       "      <td>21761123300000005</td>\n",
       "      <td>302</td>\n",
       "      <td>1.0</td>\n",
       "      <td>0.5</td>\n",
       "      <td>1</td>\n",
       "      <td>0.000088</td>\n",
       "      <td>1.552016</td>\n",
       "    </tr>\n",
       "    <tr>\n",
       "      <td>...</td>\n",
       "      <td>...</td>\n",
       "      <td>...</td>\n",
       "      <td>...</td>\n",
       "      <td>...</td>\n",
       "      <td>...</td>\n",
       "      <td>...</td>\n",
       "      <td>...</td>\n",
       "    </tr>\n",
       "    <tr>\n",
       "      <td>342568</td>\n",
       "      <td>21761121400342569</td>\n",
       "      <td>0</td>\n",
       "      <td>1.0</td>\n",
       "      <td>0.5</td>\n",
       "      <td>0</td>\n",
       "      <td>-9999.000000</td>\n",
       "      <td>1.554001</td>\n",
       "    </tr>\n",
       "    <tr>\n",
       "      <td>342569</td>\n",
       "      <td>21761121600342570</td>\n",
       "      <td>0</td>\n",
       "      <td>1.0</td>\n",
       "      <td>0.5</td>\n",
       "      <td>0</td>\n",
       "      <td>-9999.000000</td>\n",
       "      <td>1.554001</td>\n",
       "    </tr>\n",
       "    <tr>\n",
       "      <td>342570</td>\n",
       "      <td>21761121800342571</td>\n",
       "      <td>0</td>\n",
       "      <td>1.0</td>\n",
       "      <td>0.5</td>\n",
       "      <td>0</td>\n",
       "      <td>-9999.000000</td>\n",
       "      <td>1.554001</td>\n",
       "    </tr>\n",
       "    <tr>\n",
       "      <td>342571</td>\n",
       "      <td>21761122000342572</td>\n",
       "      <td>1060</td>\n",
       "      <td>1.0</td>\n",
       "      <td>0.5</td>\n",
       "      <td>0</td>\n",
       "      <td>0.022081</td>\n",
       "      <td>1.554001</td>\n",
       "    </tr>\n",
       "    <tr>\n",
       "      <td>342572</td>\n",
       "      <td>21761122200342573</td>\n",
       "      <td>876</td>\n",
       "      <td>1.0</td>\n",
       "      <td>0.5</td>\n",
       "      <td>0</td>\n",
       "      <td>0.018742</td>\n",
       "      <td>1.554001</td>\n",
       "    </tr>\n",
       "  </tbody>\n",
       "</table>\n",
       "<p>342573 rows × 7 columns</p>\n",
       "</div>"
      ],
      "text/plain": [
       "              shot_number  rh100  omega  rossg  l2b_quality_flag  \\\n",
       "0       21761122500000001    509    1.0    0.5                 1   \n",
       "1       21761122700000002    403    1.0    0.5                 1   \n",
       "2       21761122900000003    377    1.0    0.5                 1   \n",
       "3       21761123100000004    299    1.0    0.5                 0   \n",
       "4       21761123300000005    302    1.0    0.5                 1   \n",
       "...                   ...    ...    ...    ...               ...   \n",
       "342568  21761121400342569      0    1.0    0.5                 0   \n",
       "342569  21761121600342570      0    1.0    0.5                 0   \n",
       "342570  21761121800342571      0    1.0    0.5                 0   \n",
       "342571  21761122000342572   1060    1.0    0.5                 0   \n",
       "342572  21761122200342573    876    1.0    0.5                 0   \n",
       "\n",
       "        pgap_theta_error  local_beam_elevation  \n",
       "0               0.000130              1.552016  \n",
       "1               0.000204              1.552016  \n",
       "2               0.000104              1.552016  \n",
       "3               0.000123              1.552016  \n",
       "4               0.000088              1.552016  \n",
       "...                  ...                   ...  \n",
       "342568      -9999.000000              1.554001  \n",
       "342569      -9999.000000              1.554001  \n",
       "342570      -9999.000000              1.554001  \n",
       "342571          0.022081              1.554001  \n",
       "342572          0.018742              1.554001  \n",
       "\n",
       "[342573 rows x 7 columns]"
      ]
     },
     "execution_count": 40,
     "metadata": {},
     "output_type": "execute_result"
    }
   ],
   "source": [
    "# Only read what we need - note that rh100 is in units of cm\n",
    "dataset_list = ['shot_number', 'rh100', 'omega', 'rossg', 'l2b_quality_flag', \n",
    "                'pgap_theta_error', 'geolocation/local_beam_elevation']\n",
    "l2b_data = l2b_f.read_shots(beam, dataset_list=dataset_list)\n",
    "\n",
    "# Get the index of all quality shots\n",
    "idx, = numpy.nonzero(l2b_data['l2b_quality_flag'])\n",
    "\n",
    "# Use pandas to make it print nice\n",
    "pandas.DataFrame(l2b_data)"
   ]
  },
  {
   "cell_type": "markdown",
   "metadata": {},
   "source": [
    "## Plot example vertical plant profiles"
   ]
  },
  {
   "cell_type": "code",
   "execution_count": 179,
   "metadata": {},
   "outputs": [
    {
     "data": {
      "image/png": "[encoded data removed]",
      "text/plain": [
       "<Figure size 1080x360 with 4 Axes>"
      ]
     },
     "metadata": {
      "needs_background": "light"
     },
     "output_type": "display_data"
    }
   ],
   "source": [
    "%matplotlib inline\n",
    "\n",
    "def update(index=0):\n",
    "    i = idx[index]\n",
    "    \n",
    "    err = l2b_data['pgap_theta_error'][i]\n",
    "    rh100 = l2b_data['rh100'][i] / 100\n",
    "        \n",
    "    cover_z, pai_z, pavd_z = get_vertical_profiles(pgap_theta_z[:,i], height[:,i], \n",
    "        l2b_data['local_beam_elevation'][i], l2b_data['rossg'][i], l2b_data['omega'][i])\n",
    "    cover_z0, pai_z0, pavd_z0 = get_vertical_profiles(pgap_theta_z[:,i]-err, height[:,i], \n",
    "        l2b_data['local_beam_elevation'][i], l2b_data['rossg'][i], l2b_data['omega'][i])\n",
    "    cover_z1, pai_z1, pavd_z1 = get_vertical_profiles(pgap_theta_z[:,i]+err, height[:,i], \n",
    "        l2b_data['local_beam_elevation'][i], l2b_data['rossg'][i], l2b_data['omega'][i])\n",
    "    \n",
    "    first_canopy = numpy.argwhere(pgap_theta_z[:,i] < 1)[0][0]\n",
    "    max_height = height[first_canopy,i]\n",
    "    peak_canopy = numpy.argmax(pavd_z)\n",
    "    peak_height = height[peak_canopy,i]\n",
    "    \n",
    "    \"\"\"\n",
    "    if max_height < rh100:\n",
    "        max_height = 0.0\n",
    "        peak_height = 0.0\n",
    "    else:\n",
    "        max_height = height[first_canopy,i]\n",
    "        peak_canopy = numpy.argmax(pavd_z)\n",
    "        peak_height = height[peak_canopy,i]\n",
    "    \"\"\"\n",
    "    \n",
    "    fig,axs = plt.subplots(1, 4, figsize=(15, 5), sharey=True)\n",
    "    \n",
    "    axs[0].fill_betweenx(height[:,i], pgap_theta_z[:,i]-err, pgap_theta_z[:,i]+err, facecolor='lightgrey')\n",
    "    axs[0].plot(pgap_theta_z[:,i], height[:,i], color='black')\n",
    "    axs[0].axhline(y=rh100, color='blue', linestyle='dashed', label='RH100')\n",
    "    axs[0].axhline(y=max_height, color='darkgreen', linestyle='dashed', label='Canopy')\n",
    "    axs[0].axhline(y=0, color='brown', linestyle='dashed', label='Ground')\n",
    "    axs[0].legend(loc='upper right')\n",
    "    \n",
    "    axs[1].fill_betweenx(height[:,i], cover_z0, cover_z1, facecolor='lightgrey')\n",
    "    axs[1].plot(cover_z, height[:,i], color='black')    \n",
    "    axs[1].axhline(y=rh100, color='blue', linestyle='dashed', label='RH100')\n",
    "    axs[1].axhline(y=max_height, color='darkgreen', linestyle='dashed', label='Canopy')\n",
    "    axs[1].axhline(y=0, color='brown', linestyle='dashed', label='Ground')\n",
    "    axs[1].legend(loc='upper right')\n",
    "    \n",
    "    axs[2].fill_betweenx(height[:,i], pai_z0, pai_z1, facecolor='lightgrey')\n",
    "    axs[2].plot(pai_z, height[:,i], color='black')\n",
    "    axs[2].axhline(y=rh100, color='blue', linestyle='dashed', label='RH100')\n",
    "    axs[2].axhline(y=max_height, color='darkgreen', linestyle='dashed', label='Canopy')\n",
    "    axs[2].axhline(y=0, color='brown', linestyle='dashed', label='Ground')\n",
    "    axs[2].legend(loc='upper right')\n",
    "    \n",
    "    axs[3].fill_betweenx(height[:,i], pavd_z0, pavd_z1, facecolor='lightgrey')\n",
    "    axs[3].plot(pavd_z, height[:,i], color='black')\n",
    "    axs[3].axhline(y=rh100, color='blue', linestyle='dashed', label='RH100')\n",
    "    axs[3].axhline(y=max_height, color='darkgreen', linestyle='dashed', label='Canopy')\n",
    "    axs[3].axhline(y=0, color='brown', linestyle='dashed', label='Ground')\n",
    "    axs[3].legend(loc='upper right')\n",
    "\n",
    "    axs[0].set(xlim=(0, 1), ylim=(-2.5, height[first_canopy,i]+7.5), \n",
    "               title=r'$P_{gap} (\\theta, z=0):\\/$' + \\\n",
    "                     '{:.2f}'.format(pgap_theta_z[-1,i]),\n",
    "               xlabel=r'$P_{gap} (\\theta,z)$', ylabel='Height (m)')\n",
    "    axs[1].set(xlim=(0, 1), xlabel='Canopy Cover Fraction (z)',\n",
    "               title='CCF (z=0): {:.2f}'.format(cover_z[-1]))\n",
    "    axs[2].set(xlim=(0, max(1,pai_z0[-1])), xlabel=r'$PAI (z)\\/[m^{2} m^{-2}]$',\n",
    "               title='PAI (z=0): {:.2f}'.format(pai_z[-1]))\n",
    "    axs[3].set(xlim=(0, max(0.1,max(pavd_z0))), xlabel=r'$PAVD (z)\\/[m^{2} m^{-3}]$',\n",
    "               title=r'$H\\/(z=max,top):\\/$' + \\\n",
    "                     '{:.2f},{:.2f}'.format(peak_height,max_height))\n",
    "    \n",
    "    fig.suptitle('Vertical Plant Profiles (shot number: {:018d})'.format(l2b_data['shot_number'][i]))   \n",
    "    fig.canvas.draw()\n",
    "    \n",
    "update(index=10542)"
   ]
  },
  {
   "cell_type": "markdown",
   "metadata": {},
   "source": [
    "## Generate an interactive plot"
   ]
  },
  {
   "cell_type": "code",
   "execution_count": 201,
   "metadata": {},
   "outputs": [
    {
     "data": {
      "application/vnd.jupyter.widget-view+json": {
       "model_id": "4a1c6defea754d778c24332f17147396",
       "version_major": 2,
       "version_minor": 0
      },
      "text/plain": [
       "interactive(children=(IntSlider(value=10542, continuous_update=False, description='index', max=136123), Output…"
      ]
     },
     "metadata": {},
     "output_type": "display_data"
    },
    {
     "data": {
      "text/plain": [
       "<function __main__.update(index=0)>"
      ]
     },
     "execution_count": 201,
     "metadata": {},
     "output_type": "execute_result"
    }
   ],
   "source": [
    "nrecords = numpy.count_nonzero(l2b_data['l2b_quality_flag'])\n",
    "ipywidgets.interact(update, index=ipywidgets.IntSlider(min=0, max=nrecords-1, step=1, \n",
    "                                                       value=10542, continuous_update=False))"
   ]
  },
  {
   "cell_type": "code",
   "execution_count": null,
   "metadata": {},
   "outputs": [],
   "source": []
  }
 ],
 "metadata": {
  "kernelspec": {
   "display_name": "Python 3",
   "language": "python",
   "name": "python3"
  },
  "language_info": {
   "codemirror_mode": {
    "name": "ipython",
    "version": 3
   },
   "file_extension": ".py",
   "mimetype": "text/x-python",
   "name": "python",
   "nbconvert_exporter": "python",
   "pygments_lexer": "ipython3",
   "version": "3.7.3"
  }
 },
 "nbformat": 4,
 "nbformat_minor": 2
}
